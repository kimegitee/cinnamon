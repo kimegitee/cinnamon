{
 "cells": [
  {
   "cell_type": "markdown",
   "metadata": {},
   "source": [
    "With some manipulation of the equations\n",
    "\n",
    "$$\n",
    "\\bar x_n = \\frac{\\sum^n_{i=1}x_i}{n} = \\frac{x_n + \\sum^{n-1}_{i=1}x_i}{n} = \\frac{x_n + (n-1)\\bar x_{n-1}}{n}\n",
    "$$\n",
    "We can see the mean of x from n examples can be calculated using only the nth example of x and its previous mean\n",
    "\n",
    "For variance\n",
    "\n",
    "$$\n",
    "\\sigma^2_n = \\frac{\\sum_{i = 1} ^ n (x_i - \\bar x_n)^2}{n} = \\frac{(x_n - \\bar x_n)^2 + \\sum^{n-1}_{i=1} (x_i - \\bar x_{n-1} + \\bar x_{n-1} - \\bar x_n)^2}{n} \\\\\n",
    "= \\frac{(x_n - \\bar x_n)^2 + \\sum^{n-1}_{i=1}(x_i - \\bar x_{n-1})^2 + 2\\sum^{n-1}_{i=1}(x_i - \\bar x_{n-1})(\\bar x_{n-1} - \\bar x_n) + \\sum^{n-1}_{i=1}(\\bar x_{n-1} - \\bar x_n)^2}{n}\n",
    "$$\n",
    "\n",
    "As\n",
    "\n",
    "$$\\sum^{n-1}_{i=1}(x_i - \\bar x_{n-1}) = 0\n",
    "$$\n",
    "\n",
    "Our equation becomes\n",
    "\n",
    "$$\n",
    "\\sigma^2_n = \\frac{(x_n - \\bar x_n)^2 + (n-1)\\sigma^2_{n-1} + (n-1)(\\bar x_{n-1} - \\bar x_n)^2}{n}\n",
    "$$\n",
    "\n",
    "This too can be evaluated using variance and mean from previous examples."
   ]
  }
 ],
 "metadata": {
  "kernelspec": {
   "display_name": "Python 3",
   "language": "python",
   "name": "python3"
  },
  "language_info": {
   "codemirror_mode": {
    "name": "ipython",
    "version": 3
   },
   "file_extension": ".py",
   "mimetype": "text/x-python",
   "name": "python",
   "nbconvert_exporter": "python",
   "pygments_lexer": "ipython3",
   "version": "3.6.0"
  }
 },
 "nbformat": 4,
 "nbformat_minor": 2
}
